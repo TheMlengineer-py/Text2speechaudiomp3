{
 "cells": [
  {
   "cell_type": "code",
   "execution_count": 1,
   "id": "b646aeb7",
   "metadata": {},
   "outputs": [
    {
     "data": {
      "text/plain": [
       "1"
      ]
     },
     "execution_count": 1,
     "metadata": {},
     "output_type": "execute_result"
    }
   ],
   "source": [
    "#Text to speech converter using gTTS API\n",
    "#Requirements\n",
    "#Google Text-to-Speech API, it converts inputted text into audio which can then be saved as an mp3 file. \n",
    "\n",
    "#import the gTTS API library\n",
    "from gtts import gTTS\n",
    "\n",
    "#import os in order to play the audio\n",
    "import os\n",
    "\n",
    "#Input your text\n",
    "mytext = 'I am highly knowledgeable in providing Data Science and Artificial Intelligence solutions to business problems using SQL for database management and Python coding Programming language for Big data mining, data analytics, data cleaning, data wrangling, data extraction, nlp, probability, data manipulation, and visualisation, association pattern mining, cluster analysis, deep learning, Correlation analysis, data analytics, data pipeline, machine learning, machine learning engineer, forecasting, statistics, digital marketing, principal component analysis, predictive model, sentiment analysis, object oriented programming, feature engineering, cross validation, computer science, computer vision, ai, rest API, cloud computing, performance evaluation, software development, backend development, modelling, optimisation, performance tuning and model deployment into production, web, monitoring, cloud computing infrastructure, ai, agile, analytical, business intelligence and top-notch service delivery and strong analytical skills, web development, logging, debugging, optimization, testing, qa and APIs functionality, software engineer, product design, etl, and front end development'\n",
    "\n",
    "\n",
    "#Choose language\n",
    "language = 'en'\n",
    "\n",
    "#Passing the text into the engine\n",
    "usethisobj = gTTS(text=mytext, lang=language, slow=False)\n",
    "\n",
    "#Save your audio as an .mp3\n",
    " \n",
    "usethisobj.save(\"mytechnicalskilltext2speech.mp3\")\n",
    "\n",
    "#Time to listen to it\n",
    " \n",
    "\n",
    "#mpg123 is a free and open-source audio player, add it so as to mention which program we want our .mp3 file to be played on. \n",
    "\n",
    "os.system(\"mpg321 mytechnicalskilltext2speech.mp3\")\n"
   ]
  }
 ],
 "metadata": {
  "kernelspec": {
   "display_name": "Python 3.9.7 64-bit",
   "language": "python",
   "name": "python3"
  },
  "language_info": {
   "codemirror_mode": {
    "name": "ipython",
    "version": 3
   },
   "file_extension": ".py",
   "mimetype": "text/x-python",
   "name": "python",
   "nbconvert_exporter": "python",
   "pygments_lexer": "ipython3",
   "version": "3.9.7"
  },
  "vscode": {
   "interpreter": {
    "hash": "1a64f954787cd6c49ae44ffbb2295060a51070908123d77830c4d50e306005fd"
   }
  }
 },
 "nbformat": 4,
 "nbformat_minor": 5
}
